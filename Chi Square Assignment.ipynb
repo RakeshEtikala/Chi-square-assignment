{
 "cells": [
  {
   "cell_type": "markdown",
   "id": "22145c75-ef6f-49a0-9f5d-c0f195b2affd",
   "metadata": {},
   "source": [
    "Q1. Conduct a chi-square goodness of fit test to determine if the distribution of colors of M&Ms in a bag \n",
    "matches the expected distribution of 20% blue, 20% orange, 20% green, 10% yellow, 10% red, and 20% \n",
    "brown. Use Python to perform the test with a significance level of 0.05"
   ]
  },
  {
   "cell_type": "code",
   "execution_count": 1,
   "id": "4fefc182-91ff-48b9-bd30-1b34b7a04dcb",
   "metadata": {},
   "outputs": [],
   "source": [
    "import scipy.stats as stat"
   ]
  },
  {
   "cell_type": "code",
   "execution_count": 2,
   "id": "60eaa9c3-ebe8-4ac1-9f55-221d16ef7553",
   "metadata": {},
   "outputs": [],
   "source": [
    "import numpy as np"
   ]
  },
  {
   "cell_type": "code",
   "execution_count": 3,
   "id": "19ab8693-7398-4275-9cd6-339235832ced",
   "metadata": {},
   "outputs": [],
   "source": [
    "## No of hours student study dialy in weekly basis"
   ]
  },
  {
   "cell_type": "code",
   "execution_count": 4,
   "id": "ecad7476-0530-4505-8a7b-4841d0f03892",
   "metadata": {},
   "outputs": [],
   "source": [
    "# Observed data is taken randomly\n",
    "observed_data = [18,22,20,10,12,18]\n",
    "expected_data = [20,20,20,10,10,20]"
   ]
  },
  {
   "cell_type": "code",
   "execution_count": 5,
   "id": "a463e1dd-095c-4f2b-9091-212723b209e8",
   "metadata": {},
   "outputs": [
    {
     "data": {
      "text/plain": [
       "(100, 100)"
      ]
     },
     "execution_count": 5,
     "metadata": {},
     "output_type": "execute_result"
    }
   ],
   "source": [
    "sum(expected_data), sum(observed_data)"
   ]
  },
  {
   "cell_type": "code",
   "execution_count": 6,
   "id": "17346901-be8e-4597-8e62-145156d79f32",
   "metadata": {},
   "outputs": [],
   "source": [
    "## Chi square goodness of fit \n",
    "chisquare_test_statistics_value, p_value = stat.chisquare(observed_data, expected_data)"
   ]
  },
  {
   "cell_type": "code",
   "execution_count": 7,
   "id": "0626cb38-7386-4aff-917d-5a87a5a8555e",
   "metadata": {},
   "outputs": [
    {
     "name": "stdout",
     "output_type": "stream",
     "text": [
      "1.0\n",
      "0.9625657732472964\n"
     ]
    },
    {
     "data": {
      "text/plain": [
       "(None, None)"
      ]
     },
     "execution_count": 7,
     "metadata": {},
     "output_type": "execute_result"
    }
   ],
   "source": [
    "print(chisquare_test_statistics_value),print(p_value)"
   ]
  },
  {
   "cell_type": "code",
   "execution_count": 8,
   "id": "3773a18e-15ec-4a00-b716-d0b163db6f63",
   "metadata": {},
   "outputs": [],
   "source": [
    "## Find the critical value\n",
    "significance_value = 0.05\n",
    "dof= len(observed_data)-1\n",
    "critical_value=stat.chi2.ppf(1-significance_value,dof)"
   ]
  },
  {
   "cell_type": "code",
   "execution_count": 9,
   "id": "825b7aa8-6a11-4108-bcb4-dc3ad9b97588",
   "metadata": {},
   "outputs": [
    {
     "name": "stdout",
     "output_type": "stream",
     "text": [
      "11.070497693516351\n"
     ]
    }
   ],
   "source": [
    "print(critical_value)"
   ]
  },
  {
   "cell_type": "code",
   "execution_count": 10,
   "id": "fd55df95-f6c4-4216-a36b-5b37142ee23e",
   "metadata": {},
   "outputs": [
    {
     "name": "stdout",
     "output_type": "stream",
     "text": [
      "Accept the null hypothesis\n"
     ]
    }
   ],
   "source": [
    "if chisquare_test_statistics_value > critical_value:\n",
    "    print(\"Reject the null hypothesis\")\n",
    "else:\n",
    "    print(\"Accept the null hypothesis\")"
   ]
  },
  {
   "cell_type": "markdown",
   "id": "b975a37d-f98d-45dc-aefa-92e4b990c3bf",
   "metadata": {},
   "source": [
    "Q2. Use Python to calculate the chi-square statistic and p-value for a contingency table with the following \n",
    "data"
   ]
  },
  {
   "cell_type": "code",
   "execution_count": 22,
   "id": "db4c2789-14cc-4a45-9404-2f1ee04d482b",
   "metadata": {},
   "outputs": [
    {
     "name": "stdout",
     "output_type": "stream",
     "text": [
      "Chi-square statistic: 5.833333333333334\n",
      "P-value: 0.05411376622282158\n",
      "Degrees of freedom: 2\n",
      "Expected frequencies:\n",
      "[[15. 20.]\n",
      " [15. 20.]\n",
      " [15. 20.]]\n"
     ]
    }
   ],
   "source": [
    "import numpy as np\n",
    "from scipy.stats import chi2_contingency\n",
    "\n",
    "# Create the contingency table\n",
    "data = np.array([[20, 15],\n",
    "                 [10, 25],\n",
    "                 [15, 20]])\n",
    "\n",
    "# Perform the chi-square test\n",
    "chi2_stat, p_value, dof, expected = chi2_contingency(data)\n",
    "\n",
    "# Print the results\n",
    "print(f\"Chi-square statistic: {chi2_stat}\")\n",
    "print(f\"P-value: {p_value}\")\n",
    "print(f\"Degrees of freedom: {dof}\")\n",
    "print(\"Expected frequencies:\")\n",
    "print(expected)\n"
   ]
  },
  {
   "cell_type": "markdown",
   "id": "a4db9a5e-e5d7-49e2-bd8a-c07c8492c607",
   "metadata": {},
   "source": [
    "Q3. A study of the prevalence of smoking in a population of 500 individuals found that 60 individuals \n",
    "smoked. Use Python to calculate the 95% confidence interval for the true proportion of individuals in the \n",
    "population who smoke."
   ]
  },
  {
   "cell_type": "code",
   "execution_count": 23,
   "id": "4d5cacde-ae99-467b-883b-abb180c66066",
   "metadata": {},
   "outputs": [],
   "source": [
    "import math\n",
    "\n",
    "total_population = 500\n",
    "sample_size = 60\n",
    "sample_proportion =  1.0\n",
    "Confidence_interval = 0.95\n",
    "alpha = 1- Confidence_interval"
   ]
  },
  {
   "cell_type": "code",
   "execution_count": 27,
   "id": "0cb96cc3-67e5-4e1e-a3a3-c51f14fc5b7d",
   "metadata": {},
   "outputs": [],
   "source": [
    "z_critical = stat.norm.ppf(1 - alpha / 2)"
   ]
  },
  {
   "cell_type": "code",
   "execution_count": 28,
   "id": "e23f5e30-3a4a-467e-8e8b-a5d207a4722c",
   "metadata": {},
   "outputs": [],
   "source": [
    "se_sample_proportion = math.sqrt((sample_proportion * (1 - sample_proportion)) / sample_size)"
   ]
  },
  {
   "cell_type": "code",
   "execution_count": 29,
   "id": "f909c907-474c-4788-b4f8-aeec3c18c424",
   "metadata": {},
   "outputs": [],
   "source": [
    "margin_of_error = z_critical * se_sample_proportion"
   ]
  },
  {
   "cell_type": "code",
   "execution_count": 30,
   "id": "3fead5c7-8ac4-4322-8b79-cc0b3f5e0464",
   "metadata": {},
   "outputs": [
    {
     "name": "stdout",
     "output_type": "stream",
     "text": [
      "Sample Proportion: 1.0000\n",
      "Margin of Error: 0.0000\n",
      "95% Confidence Interval: [1.0000, 1.0000]\n"
     ]
    }
   ],
   "source": [
    "lower_limit = sample_proportion - margin_of_error\n",
    "upper_limit = sample_proportion + margin_of_error\n",
    "\n",
    "# Print the results\n",
    "print(f\"Sample Proportion: {sample_proportion:.4f}\")\n",
    "print(f\"Margin of Error: {margin_of_error:.4f}\")\n",
    "print(f\"95% Confidence Interval: [{lower_limit:.4f}, {upper_limit:.4f}]\")"
   ]
  },
  {
   "cell_type": "markdown",
   "id": "a3c404ae-de5e-4f7b-bbd5-8bd343d74737",
   "metadata": {},
   "source": [
    "q4. Calculate the 90% confidence interval for a sample of data with a mean of 75 and a standard deviation \n",
    "of 12 using Python. Interpret the results."
   ]
  },
  {
   "cell_type": "code",
   "execution_count": 32,
   "id": "0a9da267-887d-4ee3-8f0e-85b80b8b6dba",
   "metadata": {},
   "outputs": [
    {
     "name": "stdout",
     "output_type": "stream",
     "text": [
      "1.6991270265334972\n"
     ]
    }
   ],
   "source": [
    "confidence_interval = 0.90 \n",
    "mean = 75\n",
    "standard_deviation = 12\n",
    "sample_size = 30\n",
    "degree_of_freedom = 29\n",
    "alpha = 0.10\n",
    "t_critical = stat.t.ppf((1 + confidence_interval) / 2, degree_of_freedom)\n",
    "print(t_critical)"
   ]
  },
  {
   "cell_type": "code",
   "execution_count": 33,
   "id": "c0d76827-b327-4c04-8fff-73636bf83086",
   "metadata": {},
   "outputs": [],
   "source": [
    "margin_of_error = t_critical * (standard_deviation / np.sqrt(sample_size))"
   ]
  },
  {
   "cell_type": "code",
   "execution_count": 35,
   "id": "9f0fe50f-5e77-4fa9-b3cb-b91ae5e04371",
   "metadata": {},
   "outputs": [
    {
     "name": "stdout",
     "output_type": "stream",
     "text": [
      "71.27739919800369\n",
      "78.72260080199631\n"
     ]
    }
   ],
   "source": [
    "lower_bound = mean - margin_of_error\n",
    "upper_bound = mean + margin_of_error\n",
    "print(lower_bound)\n",
    "print(upper_bound)"
   ]
  },
  {
   "cell_type": "markdown",
   "id": "a8f28aa0-1283-4983-bd4c-d5748476ff59",
   "metadata": {},
   "source": [
    "Q5. Calculate the 95% confidence interval for a sample of data with a mean of 50 and a standard deviation \n",
    "of 5 using Python. Interpret the results."
   ]
  },
  {
   "cell_type": "code",
   "execution_count": 37,
   "id": "8f20b4b0-7bf9-4ea6-a1ff-81a7fba923b8",
   "metadata": {},
   "outputs": [
    {
     "name": "stdout",
     "output_type": "stream",
     "text": [
      "T Score 2.045229642132703\n",
      "Lower bound value =  48.1329693162095\n",
      "Upper bound value =  51.8670306837905\n"
     ]
    }
   ],
   "source": [
    "confidence_interval = 0.95 \n",
    "mean = 50\n",
    "standard_deviation = 5\n",
    "sample_size = 30\n",
    "degree_of_freedom = 29\n",
    "alpha = 0.05\n",
    "t_critical = stat.t.ppf((1 + confidence_interval) / 2, degree_of_freedom)\n",
    "print(\"T Score\", t_critical)\n",
    "margin_of_error = t_critical * (standard_deviation / np.sqrt(sample_size))\n",
    "lower_bound = mean - margin_of_error\n",
    "upper_bound = mean + margin_of_error\n",
    "print(\"Lower bound value = \" , lower_bound)\n",
    "print(\"Upper bound value = \" , upper_bound)"
   ]
  },
  {
   "cell_type": "markdown",
   "id": "c215bfae-1f93-44f9-bb3f-f22f94830cf9",
   "metadata": {},
   "source": [
    "Q6. A random sample of 1000 people was asked if they preferred Coke or Pepsi. Of the sample, 520 \n",
    "preferred Coke. Calculate a 99% confidence interval for the true proportion of people in the population who \n",
    "prefer Coke"
   ]
  },
  {
   "cell_type": "code",
   "execution_count": 39,
   "id": "f56458a7-db88-42e5-a773-df823aa7979a",
   "metadata": {},
   "outputs": [
    {
     "name": "stdout",
     "output_type": "stream",
     "text": [
      "z value = 2.5758293035489004\n"
     ]
    }
   ],
   "source": [
    "sample_size = 1000\n",
    "confidence_interval = 0.99\n",
    "alpha = 0.01\n",
    "# here in this we dont know the standard deviation \n",
    "# confidence_interval = p + / - * root of p(1-p)/n\n",
    "# p = number of people who prefer coke / total sample size = 520/1000 = 0.52\n",
    "z = 1-confidence_interval\n",
    "z_critical = stat.norm.ppf(1 - alpha / 2) # this value from the z table we will get\n",
    "print(\"z value =\", z_critical)"
   ]
  },
  {
   "cell_type": "code",
   "execution_count": 42,
   "id": "79db63ab-9e9a-4c20-98a4-18672d0b535e",
   "metadata": {},
   "outputs": [
    {
     "name": "stdout",
     "output_type": "stream",
     "text": [
      "Lower bound value =  0.4795931575980503\n",
      "Upper bound value =  0.5604068424019497\n"
     ]
    }
   ],
   "source": [
    "lower_bound = 0.52 - 2.5576 * np.sqrt(0.52*0.48/1000)\n",
    "upper_bound = 0.52 + 2.5576 * np.sqrt(0.52*0.48/1000)\n",
    "print(\"Lower bound value = \" , lower_bound)\n",
    "print(\"Upper bound value = \" , upper_bound)"
   ]
  },
  {
   "cell_type": "markdown",
   "id": "ee53f978-9635-4a41-8cbe-9fc4d43f4f11",
   "metadata": {},
   "source": [
    "who prefer Coke is likely to fall within the range of 48.0% to 56.0%"
   ]
  },
  {
   "cell_type": "markdown",
   "id": "d67b3a81-d6c1-4fda-8696-527e5f6de011",
   "metadata": {},
   "source": [
    "Q9. A study was conducted to determine if there is an association between smoking status (smoker or \n",
    "non-smoker) and lung cancer diagnosis (yes or no). The results are shown in the contingency table below. \n",
    "Conduct a chi-square test for independence to determine if there is a significant association between \n",
    "smoking status and lung cancer diagnosis."
   ]
  },
  {
   "cell_type": "code",
   "execution_count": 44,
   "id": "ee1b31a2-2e98-40cc-8b23-75e4058eb266",
   "metadata": {},
   "outputs": [],
   "source": [
    "data = np.array([[60,140],\n",
    "                 [30,170]])"
   ]
  },
  {
   "cell_type": "code",
   "execution_count": 45,
   "id": "5918f85c-e37d-49d3-bdb2-f05611fc969f",
   "metadata": {},
   "outputs": [
    {
     "data": {
      "text/plain": [
       "array([[ 60, 140],\n",
       "       [ 30, 170]])"
      ]
     },
     "execution_count": 45,
     "metadata": {},
     "output_type": "execute_result"
    }
   ],
   "source": [
    "data"
   ]
  },
  {
   "cell_type": "code",
   "execution_count": 48,
   "id": "4ed96e33-0ae9-4803-a9db-8dbe6b7f0584",
   "metadata": {},
   "outputs": [],
   "source": [
    "chi2_stat, p_value, dof, expected = chi2_contingency(data)"
   ]
  },
  {
   "cell_type": "code",
   "execution_count": 49,
   "id": "0d35e7f0-83cd-4054-9aab-35ea24f3e404",
   "metadata": {},
   "outputs": [
    {
     "name": "stdout",
     "output_type": "stream",
     "text": [
      "Chi-square statistic: 12.057347670250895\n",
      "P-value: 0.0005158863863703744\n",
      "Degrees of freedom: 1\n",
      "Expected frequencies:\n",
      "[[ 45. 155.]\n",
      " [ 45. 155.]]\n"
     ]
    }
   ],
   "source": [
    "print(f\"Chi-square statistic: {chi2_stat}\")\n",
    "print(f\"P-value: {p_value}\")\n",
    "print(f\"Degrees of freedom: {dof}\")\n",
    "print(\"Expected frequencies:\")\n",
    "print(expected)"
   ]
  },
  {
   "cell_type": "markdown",
   "id": "5c374b1c-2c2d-47e3-97b8-64343d95581c",
   "metadata": {},
   "source": [
    "p value(0.005) is less than significance value (0.05) we reject null hypothesis."
   ]
  },
  {
   "cell_type": "code",
   "execution_count": null,
   "id": "e4556ee2-52bd-4725-906f-7748aadedbb0",
   "metadata": {},
   "outputs": [],
   "source": []
  }
 ],
 "metadata": {
  "kernelspec": {
   "display_name": "Python 3 (ipykernel)",
   "language": "python",
   "name": "python3"
  },
  "language_info": {
   "codemirror_mode": {
    "name": "ipython",
    "version": 3
   },
   "file_extension": ".py",
   "mimetype": "text/x-python",
   "name": "python",
   "nbconvert_exporter": "python",
   "pygments_lexer": "ipython3",
   "version": "3.10.8"
  }
 },
 "nbformat": 4,
 "nbformat_minor": 5
}
